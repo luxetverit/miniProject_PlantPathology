{
 "cells": [
  {
   "cell_type": "code",
   "execution_count": 1,
   "metadata": {
    "_cell_guid": "b1076dfc-b9ad-4769-8c92-a6c4dae69d19",
    "_uuid": "8f2839f25d086af736a60e9eeb907d3b93b6e0e5",
    "execution": {
     "iopub.execute_input": "2022-08-29T21:21:49.578161Z",
     "iopub.status.busy": "2022-08-29T21:21:49.577029Z",
     "iopub.status.idle": "2022-08-29T21:21:52.785039Z",
     "shell.execute_reply": "2022-08-29T21:21:52.784134Z",
     "shell.execute_reply.started": "2022-08-29T21:21:49.577366Z"
    },
    "scrolled": false
   },
   "outputs": [],
   "source": [
    "import numpy as np # linear algebra\n",
    "import pandas as pd # data processing, CSV file I/O (e.g. pd.read_csv)\n",
    "import matplotlib.pyplot as plt\n",
    "from torchvision import models,transforms\n",
    "import torch.nn as nn\n",
    "import torch.utils.data as Data\n",
    "\n",
    "import os"
   ]
  },
  {
   "cell_type": "code",
   "execution_count": 2,
   "metadata": {
    "execution": {
     "iopub.execute_input": "2022-08-29T21:21:52.786908Z",
     "iopub.status.busy": "2022-08-29T21:21:52.786544Z",
     "iopub.status.idle": "2022-08-29T21:21:52.81976Z",
     "shell.execute_reply": "2022-08-29T21:21:52.818578Z",
     "shell.execute_reply.started": "2022-08-29T21:21:52.786871Z"
    }
   },
   "outputs": [],
   "source": [
    "import pandas as pd\n",
    "\n",
    "data_path = './input/plant-pathology-2020-fgvc7/'\n",
    "\n",
    "train = pd.read_csv(data_path + 'train.csv')\n",
    "test = pd.read_csv(data_path + 'test.csv')\n",
    "submission = pd.read_csv(data_path + 'sample_submission.csv')"
   ]
  },
  {
   "cell_type": "code",
   "execution_count": 3,
   "metadata": {
    "execution": {
     "iopub.execute_input": "2022-08-29T21:22:13.353829Z",
     "iopub.status.busy": "2022-08-29T21:22:13.352723Z",
     "iopub.status.idle": "2022-08-29T21:22:13.940674Z",
     "shell.execute_reply": "2022-08-29T21:22:13.939768Z",
     "shell.execute_reply.started": "2022-08-29T21:22:13.353791Z"
    }
   },
   "outputs": [],
   "source": [
    "import torch\n",
    "import random\n",
    "import numpy as np\n",
    "import os\n",
    "\n",
    "seed = 42\n",
    "os.environ['PYTHONHASHSEED'] = str(seed)\n",
    "random.seed(seed)\n",
    "np.random.seed(seed)\n",
    "torch.manual_seed(seed)\n",
    "torch.cuda.manual_seed(seed)\n",
    "torch.cuda.manual_seed_all(seed)\n",
    "torch.backends.cudnn.deterministic=True\n",
    "torch.backends.cudnn.benchmark=False\n",
    "torch.backends.cudnn.enabled=False"
   ]
  },
  {
   "cell_type": "code",
   "execution_count": 4,
   "metadata": {
    "execution": {
     "iopub.execute_input": "2022-08-29T21:22:13.942872Z",
     "iopub.status.busy": "2022-08-29T21:22:13.942081Z",
     "iopub.status.idle": "2022-08-29T21:22:14.008408Z",
     "shell.execute_reply": "2022-08-29T21:22:14.007444Z",
     "shell.execute_reply.started": "2022-08-29T21:22:13.942834Z"
    }
   },
   "outputs": [
    {
     "data": {
      "text/plain": [
       "device(type='cuda')"
      ]
     },
     "execution_count": 4,
     "metadata": {},
     "output_type": "execute_result"
    }
   ],
   "source": [
    "device = torch.device('cuda' if torch.cuda.is_available() else 'cpu')\n",
    "device"
   ]
  },
  {
   "cell_type": "code",
   "execution_count": 5,
   "metadata": {
    "execution": {
     "iopub.execute_input": "2022-08-29T21:22:14.01077Z",
     "iopub.status.busy": "2022-08-29T21:22:14.010104Z",
     "iopub.status.idle": "2022-08-29T21:22:14.032586Z",
     "shell.execute_reply": "2022-08-29T21:22:14.031742Z",
     "shell.execute_reply.started": "2022-08-29T21:22:14.010733Z"
    }
   },
   "outputs": [],
   "source": [
    "import pandas as pd\n",
    "\n",
    "data_path = './input/plant-pathology-2020-fgvc7/'\n",
    "\n",
    "train = pd.read_csv(data_path + 'train.csv')\n",
    "test = pd.read_csv(data_path + 'test.csv')\n",
    "submission = pd.read_csv(data_path + 'sample_submission.csv')"
   ]
  },
  {
   "cell_type": "code",
   "execution_count": 6,
   "metadata": {
    "execution": {
     "iopub.execute_input": "2022-08-29T21:22:14.035877Z",
     "iopub.status.busy": "2022-08-29T21:22:14.035602Z",
     "iopub.status.idle": "2022-08-29T21:22:14.555883Z",
     "shell.execute_reply": "2022-08-29T21:22:14.554919Z",
     "shell.execute_reply.started": "2022-08-29T21:22:14.035852Z"
    }
   },
   "outputs": [],
   "source": [
    "from sklearn.model_selection import train_test_split\n",
    "\n",
    "train, valid = train_test_split(train, test_size=0.1,\n",
    "                                stratify=train[['healthy', 'multiple_diseases', 'rust', 'scab']],\n",
    "                                random_state=42)"
   ]
  },
  {
   "cell_type": "code",
   "execution_count": 7,
   "metadata": {
    "execution": {
     "iopub.execute_input": "2022-08-29T21:22:14.557697Z",
     "iopub.status.busy": "2022-08-29T21:22:14.557248Z",
     "iopub.status.idle": "2022-08-29T21:22:14.567398Z",
     "shell.execute_reply": "2022-08-29T21:22:14.566274Z",
     "shell.execute_reply.started": "2022-08-29T21:22:14.55765Z"
    }
   },
   "outputs": [],
   "source": [
    "import cv2\n",
    "from torch.utils.data import Dataset\n",
    "import numpy as np\n",
    "\n",
    "class ImageDataset(Dataset):\n",
    "    def __init__(self, df, img_dir='./', transform=None, is_test=False):\n",
    "        super().__init__()\n",
    "        self.df = df\n",
    "        self.img_dir = img_dir\n",
    "        self.transform = transform\n",
    "        self.is_test = is_test\n",
    "        \n",
    "    def __len__(self):\n",
    "        return len(self.df)\n",
    "    \n",
    "    def __getitem__(self, idx):\n",
    "        img_id = self.df.iloc[idx, 0]\n",
    "        img_path = self.img_dir + img_id + '.jpg'\n",
    "        image = cv2.imread(img_path)\n",
    "        image = cv2.cvtColor(image, cv2.COLOR_BGR2RGB)\n",
    "        \n",
    "        if self.transform is not None:\n",
    "            image = self.transform(image=image)['image']\n",
    "        # 테스트 데이터이면 이미지 데이터만 반환, 그렇지 않으면 타깃값도 반환\n",
    "        if self.is_test:\n",
    "            return image\n",
    "        \n",
    "        else:\n",
    "            # 타깃값 4개 중 가장 큰 값의 인덱스\n",
    "            label = np.argmax(self.df.iloc[idx, 1:5])\n",
    "            return image, label"
   ]
  },
  {
   "cell_type": "code",
   "execution_count": 8,
   "metadata": {
    "execution": {
     "iopub.execute_input": "2022-08-29T21:22:14.569482Z",
     "iopub.status.busy": "2022-08-29T21:22:14.568922Z",
     "iopub.status.idle": "2022-08-29T21:22:15.60379Z",
     "shell.execute_reply": "2022-08-29T21:22:15.602836Z",
     "shell.execute_reply.started": "2022-08-29T21:22:14.569447Z"
    }
   },
   "outputs": [],
   "source": [
    "import albumentations as A\n",
    "from albumentations.pytorch import ToTensorV2"
   ]
  },
  {
   "cell_type": "code",
   "execution_count": 9,
   "metadata": {
    "execution": {
     "iopub.execute_input": "2022-08-29T21:22:15.605445Z",
     "iopub.status.busy": "2022-08-29T21:22:15.605107Z",
     "iopub.status.idle": "2022-08-29T21:22:15.615038Z",
     "shell.execute_reply": "2022-08-29T21:22:15.613306Z",
     "shell.execute_reply.started": "2022-08-29T21:22:15.60541Z"
    }
   },
   "outputs": [],
   "source": [
    "transform_train = A.Compose([\n",
    "    #A.Resize(450, 650),\n",
    "    A.Resize(320, 512),\n",
    "    A.RandomBrightnessContrast(brightness_limit=0.2, # 밝기 대비 조절\n",
    "                               contrast_limit=0.2, p=0.3),\n",
    "    A.VerticalFlip(p=0.2),\n",
    "    A.HorizontalFlip(p=0.5),\n",
    "    A.ShiftScaleRotate(\n",
    "        shift_limit=0.1,\n",
    "        scale_limit=0.2,\n",
    "        rotate_limit=30, p = 0.3),\n",
    "    A.OneOf([A.Emboss(p=1), # 양각화, 날카로움, 블러 효과\n",
    "             A.Sharpen(p=1),\n",
    "             A.Blur(p=1)], p=0.3),\n",
    "    A.PiecewiseAffine(p=0.3), # 어파인 변환\n",
    "    A.Normalize(), # 정규화 변환\n",
    "    ToTensorV2() # 텐서로 변환\n",
    "])"
   ]
  },
  {
   "cell_type": "code",
   "execution_count": 10,
   "metadata": {
    "execution": {
     "iopub.execute_input": "2022-08-29T21:22:15.617405Z",
     "iopub.status.busy": "2022-08-29T21:22:15.616376Z",
     "iopub.status.idle": "2022-08-29T21:22:15.626354Z",
     "shell.execute_reply": "2022-08-29T21:22:15.625429Z",
     "shell.execute_reply.started": "2022-08-29T21:22:15.617366Z"
    }
   },
   "outputs": [],
   "source": [
    "transform_test = A.Compose([\n",
    "    #A.Resize(450,650),\n",
    "    A.Resize(320, 512),\n",
    "    A.Normalize(),\n",
    "    ToTensorV2()\n",
    "])"
   ]
  },
  {
   "cell_type": "code",
   "execution_count": 11,
   "metadata": {
    "execution": {
     "iopub.execute_input": "2022-08-29T21:22:15.628081Z",
     "iopub.status.busy": "2022-08-29T21:22:15.627602Z",
     "iopub.status.idle": "2022-08-29T21:22:15.636147Z",
     "shell.execute_reply": "2022-08-29T21:22:15.635049Z",
     "shell.execute_reply.started": "2022-08-29T21:22:15.628046Z"
    }
   },
   "outputs": [],
   "source": [
    "img_dir = './input/plant-pathology-2020-fgvc7/images/'\n",
    "\n",
    "dataset_train = ImageDataset(train, img_dir=img_dir, transform=transform_train)\n",
    "dataset_valid = ImageDataset(valid, img_dir=img_dir, transform=transform_test)"
   ]
  },
  {
   "cell_type": "code",
   "execution_count": 12,
   "metadata": {
    "execution": {
     "iopub.execute_input": "2022-08-29T21:22:15.637985Z",
     "iopub.status.busy": "2022-08-29T21:22:15.637563Z",
     "iopub.status.idle": "2022-08-29T21:22:15.65196Z",
     "shell.execute_reply": "2022-08-29T21:22:15.65091Z",
     "shell.execute_reply.started": "2022-08-29T21:22:15.637949Z"
    },
    "scrolled": true
   },
   "outputs": [
    {
     "data": {
      "text/plain": [
       "<torch._C.Generator at 0x2e542a611b0>"
      ]
     },
     "execution_count": 12,
     "metadata": {},
     "output_type": "execute_result"
    }
   ],
   "source": [
    "def seed_worker(worker_id):\n",
    "    worker_seed = torch.initial_seed() % 2**32\n",
    "    np.random.seed(worker_seed)\n",
    "    random.seed(worker_seed)\n",
    "    \n",
    "g = torch.Generator()\n",
    "g.manual_seed(0)"
   ]
  },
  {
   "cell_type": "code",
   "execution_count": 13,
   "metadata": {
    "execution": {
     "iopub.execute_input": "2022-08-29T21:22:15.660227Z",
     "iopub.status.busy": "2022-08-29T21:22:15.659621Z",
     "iopub.status.idle": "2022-08-29T21:22:15.666428Z",
     "shell.execute_reply": "2022-08-29T21:22:15.665519Z",
     "shell.execute_reply.started": "2022-08-29T21:22:15.660199Z"
    }
   },
   "outputs": [],
   "source": [
    "from torch.utils.data import DataLoader\n",
    "\n",
    "batch_size = 4\n",
    "\n",
    "trainloader = DataLoader(dataset_train, batch_size=batch_size,\n",
    "                          shuffle=True, worker_init_fn = seed_worker,\n",
    "                          generator=g, num_workers=0)\n",
    "validloader = DataLoader(dataset_valid, batch_size=batch_size,\n",
    "                          shuffle=False, worker_init_fn = seed_worker,\n",
    "                          generator=g, num_workers=0)"
   ]
  },
  {
   "cell_type": "markdown",
   "metadata": {},
   "source": [
    "### 12.3.3 모델 생성"
   ]
  },
  {
   "cell_type": "code",
   "execution_count": 14,
   "metadata": {},
   "outputs": [
    {
     "name": "stdout",
     "output_type": "stream",
     "text": [
      "Loaded pretrained weights for efficientnet-b0\n"
     ]
    }
   ],
   "source": [
    "from efficientnet_pytorch import EfficientNet\n",
    "\n",
    "model = EfficientNet.from_pretrained('efficientnet-b0', num_classes=4)\n",
    "num_ftrs = model._fc.in_features\n",
    "model._fc = nn.Sequential(nn.Linear(num_ftrs,1000,bias=True),\n",
    "                          nn.ReLU(),\n",
    "                          nn.Dropout(p=0.5),\n",
    "                          nn.Linear(1000,4, bias = True))\n",
    "model = model.to(device) # 장비 할당"
   ]
  },
  {
   "cell_type": "code",
   "execution_count": 15,
   "metadata": {},
   "outputs": [],
   "source": [
    "def validation(model, validloader, criterion):\n",
    "    # 전방향 예측후 나온 점수(logits)의 최대값을 최종 예측으로 준비\n",
    "    # 이 최종 예측과 정답을 비교\n",
    "    # 전체 중 맞은 것의 개수 비율을 정확도(accuracy)로 계산\n",
    "    num_classes = 4\n",
    "    valid_accuracy = 0\n",
    "    valid_loss = 0\n",
    "    preds_auc_list = [] # 예측 확률값 저장용 리스트 초기화\n",
    "    preds_acc_list = []\n",
    "    true_list = [] # 실제 타깃값 저장용 리스트 초기화\n",
    "    true_onehot_list = []\n",
    "    \n",
    "    # 전방향 예측을 구할 때는 gradient가 필요가 없음\n",
    "    with torch.no_grad():\n",
    "        for images, labels in validloader: # 10000개의 데이터에 대해 100개씩(미니배치 사이즈) 100번을 iterations\n",
    "            # 1. 입력데이터 준비\n",
    "            #images.resize_(images.size()[0], 784) # 100, 1, 28, 28\n",
    "            images = images.to(device)\n",
    "            labels = labels.to(device)\n",
    "            \n",
    "            # 2. 전방향(Forward) 예측 \n",
    "            # logits = model.forward(images) # 점수 반환\n",
    "            outputs = model(images)\n",
    "            # _, preds = torch.max(logits, 1) # 100개에 대한 최종 예측\n",
    "            \n",
    "            loss = criterion(outputs, labels) # 100개에 대한 loss\n",
    "            \n",
    "            # acc 스코어\n",
    "            preds_acc = torch.max(outputs.cpu(), dim=1)[1].numpy()\n",
    "            true = labels.cpu().numpy()\n",
    "            \n",
    "            # roc_auc 스코어\n",
    "            preds_auc = torch.softmax(outputs.cpu(), dim=1).numpy()\n",
    "            true_onehot = torch.eye(num_classes, device='cuda')[labels].cuda().cpu().numpy()\n",
    "            \n",
    "            # ACC와 AUC 스코어 필요 인자가 달라서 각자 계산\n",
    "            # 왜 이렇게 계산하는지 학습 필요\n",
    "            preds_acc_list.extend(preds_acc)\n",
    "            preds_auc_list.extend(preds_auc)\n",
    "            true_list.extend(true)\n",
    "            true_onehot_list.extend(true_onehot)\n",
    "            \n",
    "            # valid_accuracy += accuracy\n",
    "            valid_loss += loss.item() # tensor 값을 꺼내옴 \n",
    "            \n",
    "    valid_auc = roc_auc_score(true_onehot_list, preds_auc_list)\n",
    "    vallid_accuracy = accuracy_score(true_list, preds_acc_list)\n",
    "    return valid_loss, valid_auc, vallid_accuracy # 100세트 전체 대한 총 loss, 총 accuracy"
   ]
  },
  {
   "cell_type": "code",
   "execution_count": 16,
   "metadata": {},
   "outputs": [],
   "source": [
    "from torch.utils.tensorboard import SummaryWriter\n",
    "from sklearn.metrics import roc_auc_score\n",
    "from sklearn.metrics import accuracy_score\n",
    "from tqdm.notebook import tqdm # 진행률 표시 막대\n",
    "writer  = SummaryWriter()"
   ]
  },
  {
   "cell_type": "code",
   "execution_count": 17,
   "metadata": {},
   "outputs": [],
   "source": [
    "train_loss_list = []\n",
    "valid_loss_list = []\n",
    "val_auc_list = []\n",
    "val_acc_list = []"
   ]
  },
  {
   "cell_type": "code",
   "execution_count": 18,
   "metadata": {},
   "outputs": [],
   "source": [
    "def train(model, epochs, criterion, optimizer):\n",
    "    steps = 0\n",
    "    min_loss = 10000\n",
    "    max_accuracy = 0\n",
    "    trigger = 0\n",
    "    patience = 5 # for Early stopping\n",
    "    num_classes = 4\n",
    "  \n",
    "    steps_per_epoch = len(trainloader) \n",
    "  \n",
    "    for epoch in range(epochs):\n",
    "        model.train()\n",
    "        train_loss = 0\n",
    "        for images, labels in tqdm(trainloader): # 진행률 막대 표시\n",
    "            steps += 1\n",
    "            # 1. 입력 데이터 준비\n",
    "            images = images.to(device)\n",
    "            labels = labels.to(device)\n",
    "            \n",
    "            # 2. 전방향(Forward) 예측 \n",
    "            outputs = model(images) # 예측\n",
    "            loss = criterion(outputs, labels) # 예측과 결과를 통해 Cross Entropy Loss 반환\n",
    "      \n",
    "            # 3. 역방향(Backward) 오차(Gradient) 전파\n",
    "            optimizer.zero_grad() # 파이토치에서 gradient가 누적되지 않게 하기 위해\n",
    "            loss.backward()\n",
    "      \n",
    "            # 4. 경사하강법으로 모델 파라미터 업데이트\n",
    "            optimizer.step() # W <- W -lr*Gradient\n",
    "      \n",
    "            train_loss += loss.item()\n",
    "        \n",
    "            if (steps % steps_per_epoch) == 0: # step :.... (epoch 마다)\n",
    "                model.eval() # 배치 정규화, 드롭아웃이 적용될 때는 model.forward 연산이 training때와 다르므로 반드시 설정\n",
    "                valid_loss, valid_auc, valid_accuracy = validation(model, validloader, criterion)\n",
    "        \n",
    "                # tensorboad 시각화를 위한 로그 이벤트 등록\n",
    "                writer.add_scalar(\"Loss/train\", train_loss/len(trainloader), epoch)\n",
    "                writer.add_scalar(\"Loss/valid\", valid_loss/len(validloader), epoch)\n",
    "                writer.add_scalars(\"Loss/train and valid\",\n",
    "                                  {'train' : train_loss/len(trainloader),\n",
    "                                  'valid' : valid_loss/len(validloader)}, epoch)\n",
    "                \n",
    "                # writer.add_scalar(\"Valid Accuracy\", valid_accuracy/len(validloader), epoch)\n",
    "                writer.add_scalar(\"Valid AUC\", valid_auc, epoch)\n",
    "                writer.add_scalar(\"Valid ACC\", valid_accuracy, epoch)\n",
    "                \n",
    "                train_loss_list.append(train_loss/len(trainloader))\n",
    "                valid_loss_list.append(valid_loss/len(validloader))\n",
    "                val_acc_list.append(valid_accuracy)\n",
    "                val_auc_list.append(valid_auc)\n",
    "                \n",
    "                print('Epoch : {}/{}...'.format(epoch+1, epochs),\n",
    "                      'Train Loss : {:.3f} / '.format(train_loss/len(trainloader)),\n",
    "                      'Valid Loss : {:.3f} / '.format(valid_loss/len(validloader)),\n",
    "                      'Valid AUC : {:.3f} / '.format(valid_auc),\n",
    "                      'Valid Accuracy : {:.3f}'.format(valid_accuracy))\n",
    "              \n",
    "                if valid_accuracy > max_accuracy: \n",
    "                    max_accuracy = valid_accuracy\n",
    "                    torch.save(model.state_dict(), 'best_checkpoint.pth')\n",
    "        \n",
    "                # Early Stopping (조기 종료)\n",
    "                if valid_loss > min_loss:\n",
    "                    trigger += 1 # valid loss가 min_loss 를 갱신하지 못할때마다 증가\n",
    "                    print('trigger : ', trigger )\n",
    "                    if trigger > patience:\n",
    "                        print('Early Stopping!!!')\n",
    "                        print('Traning step is finished!!')\n",
    "                        writer.flush()  \n",
    "                        return   \n",
    "                else:\n",
    "                    trigger = 0\n",
    "                    min_loss = valid_loss\n",
    "        \n",
    "                train_loss = 0\n",
    "                model.train()\n",
    "                scheduler.step(valid_loss)\n",
    "  \n",
    "    writer.flush()  "
   ]
  },
  {
   "cell_type": "code",
   "execution_count": 19,
   "metadata": {},
   "outputs": [],
   "source": [
    "torch.cuda.empty_cache()"
   ]
  },
  {
   "cell_type": "code",
   "execution_count": 20,
   "metadata": {},
   "outputs": [],
   "source": [
    "epochs=15"
   ]
  },
  {
   "cell_type": "code",
   "execution_count": 21,
   "metadata": {},
   "outputs": [],
   "source": [
    "import torch.nn as nn\n",
    "from torch import optim # 옵티마이저 (경사하강법...)\n",
    "from transformers import get_cosine_schedule_with_warmup\n",
    "from torch.optim.lr_scheduler import CosineAnnealingWarmRestarts\n",
    "\n",
    "criterion = nn.CrossEntropyLoss()"
   ]
  },
  {
   "cell_type": "code",
   "execution_count": 22,
   "metadata": {},
   "outputs": [],
   "source": [
    "optimizer = torch.optim.AdamW(model.parameters(), lr=0.0001)\n",
    "scheduler = optim.lr_scheduler.ReduceLROnPlateau(optimizer, 'min', patience=5, factor=0.1, verbose=True)"
   ]
  },
  {
   "cell_type": "code",
   "execution_count": 22,
   "metadata": {},
   "outputs": [],
   "source": [
    "optimizer = torch.optim.AdamW(model.parameters(), lr=0.0001)\n",
    "scheduler = CosineAnnealingWarmRestarts(optimizer,T_0=3, T_mult=1, eta_min=0.00001)"
   ]
  },
  {
   "cell_type": "code",
   "execution_count": 23,
   "metadata": {
    "scrolled": false
   },
   "outputs": [
    {
     "data": {
      "application/vnd.jupyter.widget-view+json": {
       "model_id": "1afb486dfb8e4045bf06ded143d90090",
       "version_major": 2,
       "version_minor": 0
      },
      "text/plain": [
       "  0%|          | 0/410 [00:00<?, ?it/s]"
      ]
     },
     "metadata": {},
     "output_type": "display_data"
    },
    {
     "name": "stdout",
     "output_type": "stream",
     "text": [
      "Epoch : 1/15... Train Loss : 0.700 /  Valid Loss : 0.230 /  Valid AUC : 0.988 /  Valid Accuracy : 0.913\n"
     ]
    },
    {
     "data": {
      "application/vnd.jupyter.widget-view+json": {
       "model_id": "b17e2a3abe114b6fa7ca711fc14b0147",
       "version_major": 2,
       "version_minor": 0
      },
      "text/plain": [
       "  0%|          | 0/410 [00:00<?, ?it/s]"
      ]
     },
     "metadata": {},
     "output_type": "display_data"
    },
    {
     "name": "stdout",
     "output_type": "stream",
     "text": [
      "Epoch : 2/15... Train Loss : 0.381 /  Valid Loss : 0.190 /  Valid AUC : 0.984 /  Valid Accuracy : 0.918\n"
     ]
    },
    {
     "data": {
      "application/vnd.jupyter.widget-view+json": {
       "model_id": "684d993967f54549a5231697d89504e4",
       "version_major": 2,
       "version_minor": 0
      },
      "text/plain": [
       "  0%|          | 0/410 [00:00<?, ?it/s]"
      ]
     },
     "metadata": {},
     "output_type": "display_data"
    },
    {
     "name": "stdout",
     "output_type": "stream",
     "text": [
      "Epoch : 3/15... Train Loss : 0.308 /  Valid Loss : 0.181 /  Valid AUC : 0.981 /  Valid Accuracy : 0.934\n"
     ]
    },
    {
     "data": {
      "application/vnd.jupyter.widget-view+json": {
       "model_id": "efcaf38f0aa9489ab2a4bb46fcf05f8d",
       "version_major": 2,
       "version_minor": 0
      },
      "text/plain": [
       "  0%|          | 0/410 [00:00<?, ?it/s]"
      ]
     },
     "metadata": {},
     "output_type": "display_data"
    },
    {
     "name": "stdout",
     "output_type": "stream",
     "text": [
      "Epoch : 4/15... Train Loss : 0.295 /  Valid Loss : 0.185 /  Valid AUC : 0.985 /  Valid Accuracy : 0.923\n",
      "trigger :  1\n"
     ]
    },
    {
     "data": {
      "application/vnd.jupyter.widget-view+json": {
       "model_id": "cd054ba6be7d4046b717d7bac935b385",
       "version_major": 2,
       "version_minor": 0
      },
      "text/plain": [
       "  0%|          | 0/410 [00:00<?, ?it/s]"
      ]
     },
     "metadata": {},
     "output_type": "display_data"
    },
    {
     "name": "stdout",
     "output_type": "stream",
     "text": [
      "Epoch : 5/15... Train Loss : 0.264 /  Valid Loss : 0.181 /  Valid AUC : 0.986 /  Valid Accuracy : 0.923\n",
      "trigger :  2\n"
     ]
    },
    {
     "data": {
      "application/vnd.jupyter.widget-view+json": {
       "model_id": "1e5ec782bd3d46a292ced46d730b0f9f",
       "version_major": 2,
       "version_minor": 0
      },
      "text/plain": [
       "  0%|          | 0/410 [00:00<?, ?it/s]"
      ]
     },
     "metadata": {},
     "output_type": "display_data"
    },
    {
     "name": "stdout",
     "output_type": "stream",
     "text": [
      "Epoch : 6/15... Train Loss : 0.231 /  Valid Loss : 0.187 /  Valid AUC : 0.984 /  Valid Accuracy : 0.923\n",
      "trigger :  3\n"
     ]
    },
    {
     "data": {
      "application/vnd.jupyter.widget-view+json": {
       "model_id": "dddfc2cc3df34391be8da075ec922558",
       "version_major": 2,
       "version_minor": 0
      },
      "text/plain": [
       "  0%|          | 0/410 [00:00<?, ?it/s]"
      ]
     },
     "metadata": {},
     "output_type": "display_data"
    },
    {
     "name": "stdout",
     "output_type": "stream",
     "text": [
      "Epoch : 7/15... Train Loss : 0.216 /  Valid Loss : 0.186 /  Valid AUC : 0.984 /  Valid Accuracy : 0.923\n",
      "trigger :  4\n"
     ]
    },
    {
     "data": {
      "application/vnd.jupyter.widget-view+json": {
       "model_id": "bd616c5714724f18a453d13400eda79d",
       "version_major": 2,
       "version_minor": 0
      },
      "text/plain": [
       "  0%|          | 0/410 [00:00<?, ?it/s]"
      ]
     },
     "metadata": {},
     "output_type": "display_data"
    },
    {
     "name": "stdout",
     "output_type": "stream",
     "text": [
      "Epoch : 8/15... Train Loss : 0.203 /  Valid Loss : 0.178 /  Valid AUC : 0.987 /  Valid Accuracy : 0.934\n"
     ]
    },
    {
     "data": {
      "application/vnd.jupyter.widget-view+json": {
       "model_id": "6d2a25d9319c4123921eda396b52efdb",
       "version_major": 2,
       "version_minor": 0
      },
      "text/plain": [
       "  0%|          | 0/410 [00:00<?, ?it/s]"
      ]
     },
     "metadata": {},
     "output_type": "display_data"
    },
    {
     "name": "stdout",
     "output_type": "stream",
     "text": [
      "Epoch : 9/15... Train Loss : 0.197 /  Valid Loss : 0.173 /  Valid AUC : 0.987 /  Valid Accuracy : 0.940\n"
     ]
    },
    {
     "data": {
      "application/vnd.jupyter.widget-view+json": {
       "model_id": "a9ac7c4099f94db582bc3560f773d994",
       "version_major": 2,
       "version_minor": 0
      },
      "text/plain": [
       "  0%|          | 0/410 [00:00<?, ?it/s]"
      ]
     },
     "metadata": {},
     "output_type": "display_data"
    },
    {
     "name": "stdout",
     "output_type": "stream",
     "text": [
      "Epoch : 10/15... Train Loss : 0.171 /  Valid Loss : 0.174 /  Valid AUC : 0.986 /  Valid Accuracy : 0.934\n",
      "trigger :  1\n"
     ]
    },
    {
     "data": {
      "application/vnd.jupyter.widget-view+json": {
       "model_id": "559de0f84d624a859016342ba0c178b8",
       "version_major": 2,
       "version_minor": 0
      },
      "text/plain": [
       "  0%|          | 0/410 [00:00<?, ?it/s]"
      ]
     },
     "metadata": {},
     "output_type": "display_data"
    },
    {
     "name": "stdout",
     "output_type": "stream",
     "text": [
      "Epoch : 11/15... Train Loss : 0.146 /  Valid Loss : 0.151 /  Valid AUC : 0.993 /  Valid Accuracy : 0.945\n"
     ]
    },
    {
     "data": {
      "application/vnd.jupyter.widget-view+json": {
       "model_id": "699e990063bf4fdbb84da86033140c35",
       "version_major": 2,
       "version_minor": 0
      },
      "text/plain": [
       "  0%|          | 0/410 [00:00<?, ?it/s]"
      ]
     },
     "metadata": {},
     "output_type": "display_data"
    },
    {
     "name": "stdout",
     "output_type": "stream",
     "text": [
      "Epoch : 12/15... Train Loss : 0.173 /  Valid Loss : 0.220 /  Valid AUC : 0.981 /  Valid Accuracy : 0.923\n",
      "trigger :  1\n"
     ]
    },
    {
     "data": {
      "application/vnd.jupyter.widget-view+json": {
       "model_id": "7cd52b9ccbe94888a433f0483b093a3d",
       "version_major": 2,
       "version_minor": 0
      },
      "text/plain": [
       "  0%|          | 0/410 [00:00<?, ?it/s]"
      ]
     },
     "metadata": {},
     "output_type": "display_data"
    },
    {
     "name": "stdout",
     "output_type": "stream",
     "text": [
      "Epoch : 13/15... Train Loss : 0.163 /  Valid Loss : 0.241 /  Valid AUC : 0.967 /  Valid Accuracy : 0.940\n",
      "trigger :  2\n"
     ]
    },
    {
     "data": {
      "application/vnd.jupyter.widget-view+json": {
       "model_id": "17877b07bf994ef39aeb7db31c93c4a6",
       "version_major": 2,
       "version_minor": 0
      },
      "text/plain": [
       "  0%|          | 0/410 [00:00<?, ?it/s]"
      ]
     },
     "metadata": {},
     "output_type": "display_data"
    },
    {
     "name": "stdout",
     "output_type": "stream",
     "text": [
      "Epoch : 14/15... Train Loss : 0.120 /  Valid Loss : 0.216 /  Valid AUC : 0.976 /  Valid Accuracy : 0.940\n",
      "trigger :  3\n"
     ]
    },
    {
     "data": {
      "application/vnd.jupyter.widget-view+json": {
       "model_id": "63bc1bfa65dd469eb353195c8e13b40a",
       "version_major": 2,
       "version_minor": 0
      },
      "text/plain": [
       "  0%|          | 0/410 [00:00<?, ?it/s]"
      ]
     },
     "metadata": {},
     "output_type": "display_data"
    },
    {
     "name": "stdout",
     "output_type": "stream",
     "text": [
      "Epoch : 15/15... Train Loss : 0.126 /  Valid Loss : 0.311 /  Valid AUC : 0.943 /  Valid Accuracy : 0.902\n",
      "trigger :  4\n"
     ]
    }
   ],
   "source": [
    "# img size 320, 512\n",
    "train(model, epochs, criterion, optimizer)"
   ]
  },
  {
   "cell_type": "code",
   "execution_count": 28,
   "metadata": {
    "scrolled": false
   },
   "outputs": [
    {
     "name": "stderr",
     "output_type": "stream",
     "text": [
      "C:\\ProgramData\\Anaconda3\\lib\\site-packages\\seaborn\\_decorators.py:36: FutureWarning: Pass the following variables as keyword args: x, y. From version 0.12, the only valid positional argument will be `data`, and passing other arguments without an explicit keyword will result in an error or misinterpretation.\n",
      "  warnings.warn(\n",
      "C:\\ProgramData\\Anaconda3\\lib\\site-packages\\seaborn\\_decorators.py:36: FutureWarning: Pass the following variables as keyword args: x, y. From version 0.12, the only valid positional argument will be `data`, and passing other arguments without an explicit keyword will result in an error or misinterpretation.\n",
      "  warnings.warn(\n"
     ]
    },
    {
     "data": {
      "text/plain": [
       "<matplotlib.legend.Legend at 0x1d8802224f0>"
      ]
     },
     "execution_count": 28,
     "metadata": {},
     "output_type": "execute_result"
    },
    {
     "data": {
      "image/png": "[encoded data removed]",
      "text/plain": [
       "<Figure size 640x480 with 1 Axes>"
      ]
     },
     "metadata": {},
     "output_type": "display_data"
    }
   ],
   "source": [
    "import matplotlib.pyplot as plt\n",
    "import seaborn as sns\n",
    "\n",
    "plt.figure()\n",
    "plt.ylim(0,1.2)\n",
    "sns.lineplot(list(range(len(train_loss_list))), train_loss_list)\n",
    "sns.lineplot(list(range(len(valid_loss_list))), valid_loss_list)\n",
    "plt.xlabel('Epoch')\n",
    "plt.ylabel('Loss')\n",
    "plt.legend(['Train','Val'])"
   ]
  },
  {
   "cell_type": "code",
   "execution_count": 30,
   "metadata": {},
   "outputs": [
    {
     "name": "stderr",
     "output_type": "stream",
     "text": [
      "C:\\ProgramData\\Anaconda3\\lib\\site-packages\\seaborn\\_decorators.py:36: FutureWarning: Pass the following variables as keyword args: x, y. From version 0.12, the only valid positional argument will be `data`, and passing other arguments without an explicit keyword will result in an error or misinterpretation.\n",
      "  warnings.warn(\n",
      "C:\\ProgramData\\Anaconda3\\lib\\site-packages\\seaborn\\_decorators.py:36: FutureWarning: Pass the following variables as keyword args: x, y. From version 0.12, the only valid positional argument will be `data`, and passing other arguments without an explicit keyword will result in an error or misinterpretation.\n",
      "  warnings.warn(\n"
     ]
    },
    {
     "data": {
      "text/plain": [
       "<matplotlib.legend.Legend at 0x1d880538610>"
      ]
     },
     "execution_count": 30,
     "metadata": {},
     "output_type": "execute_result"
    },
    {
     "data": {
      "image/png": "[encoded data removed]",
      "text/plain": [
       "<Figure size 640x480 with 1 Axes>"
      ]
     },
     "metadata": {},
     "output_type": "display_data"
    }
   ],
   "source": [
    "import matplotlib.pyplot as plt\n",
    "import seaborn as sns\n",
    "\n",
    "plt.figure()\n",
    "plt.ylim(0.8,1)\n",
    "sns.lineplot(list(range(len(val_acc_list))), val_acc_list)\n",
    "sns.lineplot(list(range(len(val_auc_list))), val_auc_list)\n",
    "plt.xlabel('Epoch')\n",
    "plt.ylabel('Score')\n",
    "plt.legend(['Accuracy','ROC_AUC'])"
   ]
  },
  {
   "cell_type": "code",
   "execution_count": 24,
   "metadata": {},
   "outputs": [],
   "source": [
    "writer.close()"
   ]
  },
  {
   "cell_type": "markdown",
   "metadata": {},
   "source": [
    "### 12.3.5 예측 및 결과 제출"
   ]
  },
  {
   "cell_type": "code",
   "execution_count": 25,
   "metadata": {
    "execution": {
     "iopub.execute_input": "2022-08-29T21:52:27.941952Z",
     "iopub.status.busy": "2022-08-29T21:52:27.941299Z",
     "iopub.status.idle": "2022-08-29T21:52:27.949652Z",
     "shell.execute_reply": "2022-08-29T21:52:27.948628Z",
     "shell.execute_reply.started": "2022-08-29T21:52:27.941904Z"
    }
   },
   "outputs": [],
   "source": [
    "dataset_test = ImageDataset(test, img_dir=img_dir, transform=transform_test, is_test=True)\n",
    " \n",
    "testloader = DataLoader(dataset_test, batch_size=batch_size, shuffle=False, worker_init_fn=seed_worker,\n",
    "                         generator=g, num_workers=0)"
   ]
  },
  {
   "cell_type": "markdown",
   "metadata": {},
   "source": [
    "예측"
   ]
  },
  {
   "cell_type": "code",
   "execution_count": 26,
   "metadata": {
    "execution": {
     "iopub.execute_input": "2022-08-29T21:52:27.953325Z",
     "iopub.status.busy": "2022-08-29T21:52:27.952674Z",
     "iopub.status.idle": "2022-08-29T21:54:06.023758Z",
     "shell.execute_reply": "2022-08-29T21:54:06.022406Z",
     "shell.execute_reply.started": "2022-08-29T21:52:27.953284Z"
    }
   },
   "outputs": [],
   "source": [
    "model.eval() # 모델을 평가 상태로 설정\n",
    "\n",
    "preds = np.zeros((len(test), 4)) # 예측값 저장용 배열초기화\n",
    "\n",
    "with torch.no_grad():\n",
    "    for i, images in enumerate(testloader):\n",
    "        images = images.to(device)\n",
    "        outputs = model(images)\n",
    "        \n",
    "        # 타깃 예측 확률\n",
    "        preds_part = torch.softmax(outputs.cpu(), dim=1).squeeze().numpy()\n",
    "        preds[i*batch_size:(i+1)*batch_size] += preds_part"
   ]
  },
  {
   "cell_type": "code",
   "execution_count": 27,
   "metadata": {
    "execution": {
     "iopub.execute_input": "2022-08-29T21:54:06.027262Z",
     "iopub.status.busy": "2022-08-29T21:54:06.025701Z",
     "iopub.status.idle": "2022-08-29T21:54:06.050861Z",
     "shell.execute_reply": "2022-08-29T21:54:06.050004Z",
     "shell.execute_reply.started": "2022-08-29T21:54:06.027216Z"
    }
   },
   "outputs": [],
   "source": [
    "submission[['healthy', 'multiple_diseases', 'rust', 'scab']] = preds\n",
    "submission.to_csv('subm_effnetb4_cosine.csv', index=False)"
   ]
  },
  {
   "cell_type": "code",
   "execution_count": null,
   "metadata": {},
   "outputs": [],
   "source": []
  }
 ],
 "metadata": {
  "kernelspec": {
   "display_name": "Python 3 (ipykernel)",
   "language": "python",
   "name": "python3"
  },
  "language_info": {
   "codemirror_mode": {
    "name": "ipython",
    "version": 3
   },
   "file_extension": ".py",
   "mimetype": "text/x-python",
   "name": "python",
   "nbconvert_exporter": "python",
   "pygments_lexer": "ipython3",
   "version": "3.9.13"
  }
 },
 "nbformat": 4,
 "nbformat_minor": 4
}
